{
  "nbformat": 4,
  "nbformat_minor": 0,
  "metadata": {
    "colab": {
      "provenance": []
    },
    "kernelspec": {
      "name": "python3",
      "display_name": "Python 3"
    },
    "language_info": {
      "name": "python"
    }
  },
  "cells": [
    {
      "cell_type": "code",
      "execution_count": null,
      "metadata": {
        "id": "nEGYzTztiTw5"
      },
      "outputs": [],
      "source": []
    },
    {
      "cell_type": "markdown",
      "source": [
        "1. List out the features of HTML5\n",
        "    - New elements, attributes, and behaviors; support for multimedia; better error handling.\n",
        "    - New tags like < article>, < aside>, < figure>.\n",
        "    - Enhanced forms with new input types.\n",
        "    - Built-in audio and video support with < audio> and < video>.\n",
        "    - Local storage for offline use.\n",
        "    - Graphics and animations with < canvas> and < svg>."
      ],
      "metadata": {
        "id": "c7UxWbk-iaBO"
      }
    },
    {
      "cell_type": "markdown",
      "source": [
        "2. What are HTML Entities? List out 5 commonly used HTML entities\n",
        "  - Special codes to display reserved characters.\n",
        "  - Help display symbols that have special meanings in HTML.\n",
        "  - Ensure characters are rendered correctly.\n",
        "  - Prevent HTML code from breaking.\n",
        "  - Used to display invisible characters\n",
        "\n",
        "  Five Commonly Used HTML Entities:\n",
        "      1. &amp ; for &\n",
        "      2. &lt ; for <\n",
        "      3. &gt ; for >\n",
        "      4. &quot ; for \"\n",
        "      5. &apos ; for '\n"
      ],
      "metadata": {
        "id": "SfXZWhY5i_eL"
      }
    },
    {
      "cell_type": "markdown",
      "source": [
        "3. Define accessibility in the context of web development. Discuss why it's essential to create accessible websites and how it benefits different user group\"\n",
        "    - What is Accessibility?: Making web content usable for everyone,\n",
        "Includes people with disabilities,Ensures equal access to information,Enhances user experience,Part of web development best practices.\n",
        "    - Accessebility helps for Legal compliance (e.g., ADA, WCAG), Inclusivity and social responsibility, Expands audience reach, Improves SEO,Benefits all users, not just those with disabilities.\n"
      ],
      "metadata": {
        "id": "HavD7BYekDFe"
      }
    },
    {
      "cell_type": "markdown",
      "source": [
        "4.  List any 3 ways which help us in improving the accessibility of HTML\n",
        "    - Use semantic HTML tags.\n",
        "    - Provide alt text for images.\n",
        "    - Ensure keyboard navigability.\n",
        "    - Use ARIA (Accessible Rich Internet Applications) landmarks.\n",
        "    - Test with screen readers and other assistive technologies."
      ],
      "metadata": {
        "id": "Xbh5JlNVlAHu"
      }
    },
    {
      "cell_type": "markdown",
      "source": [
        "5. Create a web page that highlights the features of HTML5. Use appropriate semantic tags to structure the content and showcase at least three key features of HTML5 with explanations.\n",
        "      - <!DOCTYPE html>\n",
        "<html lang=\"en\">\n",
        "<head>\n",
        "    <meta charset=\"UTF-8\">\n",
        "    <meta name=\"viewport\" content=\"width=device-width, initial-scale=1.0\">\n",
        "    <title>Document</title>\n",
        "</head>\n",
        "<body>\n",
        "    \n",
        "    <header>\n",
        "        <main>\n",
        "            <section>\n",
        "            <h1>1. Semantic Elements</h1>\n",
        "            <p>HTML introduces semantic tags like <code>&lt;header&gt;</code>, <code>&lt;footer&gt;</code>, <code>&lt;article&gt;</code>, and <code>&lt;section&gt;</code>.\n",
        "                These elements provide better structure and meaning to web pages, making them more accessible and easier to read by search engines and screen readers</p>\n",
        "            </section>\n",
        "            <section>\n",
        "                <h1>2. Audio and Video support</h1>\n",
        "                <p>HTML5 allows for the native embedding of audio and video content without the need for external plugins like Flash. This improves performance and ensures better compatibility across different devices and browsers</p>\n",
        "            </section>\n",
        "        </main>\n",
        "\n",
        "    </header>\n",
        "    <footer>\n",
        "        <section>\n",
        "        <h1>3.Footer</h1>\n",
        "        &copy; this is footer\n",
        "    </section>\n",
        "    </footer>\n",
        "</body>\n",
        "</html>\n"
      ],
      "metadata": {
        "id": "-iHSt0PRlC5C"
      }
    },
    {
      "cell_type": "markdown",
      "source": [
        "6. Create a simple web page which has a table. The table must have 2 columns HTML and HTML5. The table should include a minimum of three rows describing the differences between HTML and HTML5.\n",
        "\n",
        "  - <!DOCTYPE html>\n",
        "<html lang=\"en\">\n",
        "<head>\n",
        "    <meta charset=\"UTF-8\">\n",
        "    <meta name=\"viewport\" content=\"width=device-width, initial-scale=1.0\">\n",
        "    <title>Document</title>\n",
        "</head>\n",
        "<body>\n",
        "  <div>\n",
        "    <table border=\"\">\n",
        "        <tr>\n",
        "            <th>HTML5</th>\n",
        "            <th>HTML</th>\n",
        "        </tr>\n",
        "        <tr>\n",
        "            <td>\n",
        "                <ol>\n",
        "                    <li>\n",
        "                        HTML5 provides native audio and video support.\n",
        "                    </li>\n",
        "                    <li>\n",
        "                       HTML5 uses web SQL databases, local storage, and application cache for storing data temporarily.\n",
        "                    </li>\n",
        "                    <li>\n",
        "                        Shorter document type declaration.\n",
        "                    </li>\n",
        "                    <li>\n",
        "                        Only compatible with newer browsers, considering there are many new tags and elements which only some browsers support.\n",
        "                    </li>\n",
        "                    <li>\n",
        "                        HTML5 allows users to draw shapes such as circles, triangles, and rectangles.\n",
        "                    </li>\n",
        "                </ol>\n",
        "            </td>\n",
        "               <td>\n",
        "                <ol>\n",
        "                    <li>\n",
        "                        HTML does not provide native audio and video support.\n",
        "                    </li>\n",
        "                    <li>\n",
        "                        HTML only uses browser cache and cookies to store data temporarily.\n",
        "                    </li>\n",
        "                    <li>\n",
        "                        Longer document type declaration.\n",
        "                    </li>\n",
        "                    <li>\n",
        "                        Compatible with almost all browsers.\n",
        "                    </li>\n",
        "                    <li>\n",
        "                        HTML doesn’t allow users to draw shapes such as circles, triangles, and rectangles.\n",
        "                    </li>\n",
        "                </ol>\n",
        "            </td>\n",
        "        </tr>\n",
        "    </table>\n",
        "    </div>\n",
        "</body>\n",
        "</html>"
      ],
      "metadata": {
        "id": "XyfYjbgglNla"
      }
    }
  ]
}